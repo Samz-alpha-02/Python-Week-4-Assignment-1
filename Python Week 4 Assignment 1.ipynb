{
 "cells": [
  {
   "cell_type": "code",
   "execution_count": null,
   "id": "0a6b1d88-686e-4e65-a8f1-64fc99c9770c",
   "metadata": {},
   "outputs": [],
   "source": [
    "#Q1\n",
    "In object-oriented programming (OOP), a class and an object are fundamental concepts that play a key role\n",
    "in organizing and structuring code.\n",
    "\n",
    "A class is a blueprint or template that defines the structure and behavior of objects. It serves as a \n",
    "blueprint for creating instances of that class, known as objects. A class encapsulates data (attributes) \n",
    "and behavior (methods) into a single unit.\n",
    "\n",
    "An object, on the other hand, is an instance of a class. It represents a specific entity or instance based \n",
    "on the blueprint defined by the class. Each object has its own unique state (attribute values) and can perform\n",
    "actions (invoke methods) defined by its class."
   ]
  },
  {
   "cell_type": "code",
   "execution_count": 1,
   "id": "e247240b-f409-4ab9-aad7-696c4bfd8f94",
   "metadata": {},
   "outputs": [
    {
     "name": "stdout",
     "output_type": "stream",
     "text": [
      "Toyota\n",
      "Red\n",
      "The Blue Toyota car's engine has started.\n",
      "The Red BMW car's engine has started.\n"
     ]
    }
   ],
   "source": [
    "class Car:\n",
    "    def __init__(self, brand, color):\n",
    "        self.brand = brand\n",
    "        self.color = color\n",
    "\n",
    "    def start_engine(self):\n",
    "        print(f\"The {self.color} {self.brand} car's engine has started.\")\n",
    "\n",
    "\n",
    "# Creating instances (objects) of the Car class\n",
    "car1 = Car(\"Toyota\", \"Blue\")\n",
    "car2 = Car(\"BMW\", \"Red\")\n",
    "\n",
    "# Accessing object attributes\n",
    "print(car1.brand)  # Output: Toyota\n",
    "print(car2.color)  # Output: Red\n",
    "\n",
    "# Invoking object methods\n",
    "car1.start_engine()  # Output: The Blue Toyota car's engine has started.\n",
    "car2.start_engine()  # Output: The Red BMW car's engine has started.\n"
   ]
  },
  {
   "cell_type": "code",
   "execution_count": null,
   "id": "805c079c-2384-4590-a72d-b788285a40c4",
   "metadata": {},
   "outputs": [],
   "source": [
    "In this example, we define a Car class that represents a car entity. The class has two attributes \n",
    "(brand and color) and a method (start_engine). The __init__ method is a special method called the \n",
    "constructor, used to initialize the object's attributes when an instance is created.\n",
    "\n",
    "We then create two instances of the Car class: car1 and car2. Each instance represents a specific \n",
    "car with its own brand and color attributes. We can access these attributes using dot notation \n",
    "(object.attribute).\n",
    "\n",
    "Furthermore, we can invoke the start_engine method on each object, which prints a message indicating \n",
    "that the car's engine has started. The methods defined in the class can access the object's attributes \n",
    "using self.attribute.\n",
    "\n",
    "In summary, a class provides a blueprint that defines the attributes and methods that objects of that \n",
    "class will possess. Objects, on the other hand, are specific instances created based on that blueprint\n",
    "and have their own unique attributes and can perform actions defined by the class."
   ]
  },
  {
   "cell_type": "code",
   "execution_count": null,
   "id": "b581a0f1-db4f-4806-b001-8da61421ba11",
   "metadata": {},
   "outputs": [],
   "source": []
  },
  {
   "cell_type": "code",
   "execution_count": null,
   "id": "dc9e2b87-a537-48ff-a449-0f392a6cec2e",
   "metadata": {},
   "outputs": [],
   "source": [
    "#Q2\n",
    "The four pillars of object-oriented programming (OOP) are:\n",
    "\n",
    "1.Encapsulation: Encapsulation is the process of bundling data (attributes) and methods (behavior)\n",
    "                 together within a class. It promotes data hiding by keeping the internal state of \n",
    "                 an object hidden from the outside and only allowing access to it through well-defined \n",
    "                 methods. Encapsulation helps in achieving abstraction, security, and modularity.\n",
    "\n",
    "2.Inheritance: Inheritance allows the creation of new classes (child or derived classes) based on \n",
    "               existing classes (parent or base classes). The derived classes inherit the attributes \n",
    "               and methods of the base class, which promotes code reuse and the creation of hierarchical \n",
    "               relationships among classes. Inheritance enables the implementation of the \"is-a\" relationship, \n",
    "               where a derived class is a specialized version of the base class.\n",
    "\n",
    "3.Polymorphism: Polymorphism refers to the ability of objects of different classes to respond to the same \n",
    "                message or method call. It allows different classes to have different implementations of a \n",
    "                method with the same name. Polymorphism enables flexibility and extensibility in the code, as \n",
    "                it allows objects to take multiple forms and exhibit different behaviors based on the context \n",
    "                in which they are used.\n",
    "\n",
    "4.Abstraction: Abstraction focuses on providing a simplified and generalized view of objects or systems. It \n",
    "               involves hiding unnecessary details and exposing only the essential features and behaviors. \n",
    "               Abstraction allows the creation of abstract classes or interfaces that define contracts for \n",
    "               classes to implement. It enables the separation of interface and implementation, promoting modular \n",
    "               and loosely coupled code.\n",
    "\n",
    "These four pillars of OOP work together to provide a powerful and flexible paradigm for structuring and organizing \n",
    "code, enabling concepts such as code reuse, modularity, and extensibility."
   ]
  },
  {
   "cell_type": "code",
   "execution_count": null,
   "id": "9b7989d5-933e-45e9-8103-509391e49967",
   "metadata": {},
   "outputs": [],
   "source": []
  },
  {
   "cell_type": "code",
   "execution_count": null,
   "id": "f1cab3a9-c457-47b0-866e-0ef15b28cfd3",
   "metadata": {},
   "outputs": [],
   "source": [
    "#Q3\n",
    "The __init__() function is a special method in Python classes that is automatically called when an object is \n",
    "created from the class. It is used to initialize the attributes (state) of the object.\n",
    "\n",
    "The primary purpose of the __init__() function is to set up the initial state of an object by assigning values \n",
    "to its attributes. It allows you to specify the initial values for the object's attributes during object creation."
   ]
  },
  {
   "cell_type": "code",
   "execution_count": 2,
   "id": "2f3911a1-2eb1-4258-a382-8f04d182ad51",
   "metadata": {},
   "outputs": [
    {
     "name": "stdout",
     "output_type": "stream",
     "text": [
      "John\n",
      "25\n",
      "My name is John and I am 25 years old.\n"
     ]
    }
   ],
   "source": [
    "class Person:\n",
    "    def __init__(self, name, age):\n",
    "        self.name = name\n",
    "        self.age = age\n",
    "\n",
    "    def introduce(self):\n",
    "        print(f\"My name is {self.name} and I am {self.age} years old.\")\n",
    "\n",
    "\n",
    "# Creating an instance of the Person class\n",
    "person1 = Person(\"John\", 25)\n",
    "\n",
    "# Accessing object attributes\n",
    "print(person1.name)  # Output: John\n",
    "print(person1.age)   # Output: 25\n",
    "\n",
    "# Invoking object method\n",
    "person1.introduce()  # Output: My name is John and I am 25 years old.\n"
   ]
  },
  {
   "cell_type": "code",
   "execution_count": null,
   "id": "58be3bb9-92d1-41e3-93c1-a8e6e75fa4ae",
   "metadata": {},
   "outputs": [],
   "source": [
    "In this example, we have a Person class that represents a person entity. The __init__() method is defined \n",
    "within the class to initialize the object's attributes (name and age). The self parameter refers to the object \n",
    "being created and allows us to access and assign values to its attributes.\n",
    "\n",
    "When we create an instance of the Person class (person1), we pass the values for the name and age attributes as \n",
    "arguments. The __init__() function is automatically called, and it assigns these values to the corresponding \n",
    "attributes of the person1 object.\n",
    "\n",
    "By using the __init__() function, we can ensure that each object of the Person class is properly initialized \n",
    "with the desired attribute values. It helps in establishing the initial state of the object, making it ready for\n",
    "use and enabling the object to exhibit the expected behavior.\n",
    "\n",
    "Overall, the __init__() function plays a crucial role in initializing the attributes of an object, providing a \n",
    "way to set up its initial state during object creation."
   ]
  },
  {
   "cell_type": "code",
   "execution_count": null,
   "id": "5c8b41b7-1353-4693-b6f0-a6ea70cad301",
   "metadata": {},
   "outputs": [],
   "source": []
  },
  {
   "cell_type": "code",
   "execution_count": null,
   "id": "aae1d3c3-972b-4373-af7f-7b5dda59df22",
   "metadata": {},
   "outputs": [],
   "source": [
    "#Q4\n",
    "In object-oriented programming (OOP), the self parameter is used to refer to the instance of a class (object) \n",
    "within the class itself. It is a convention in Python to use self as the first parameter in method definitions \n",
    "within a class.\n",
    "\n",
    "Here are the reasons why self is used in OOP:\n",
    "\n",
    "1.Accessing Object Attributes and Methods: By using self, you can access the attributes and methods of the \n",
    "                                           object within the class. It allows you to refer to the specific \n",
    "                                           instance of the class and access its unique state and behaviors. \n",
    "                                           Without self, you would not be able to differentiate between the \n",
    "                                           attributes and methods of different objects.\n",
    "\n",
    "2.Method Invocation: When you call a method on an object, you need to specify the object on which the method\n",
    "                     is being invoked. The self parameter provides a way to refer to the current instance of the \n",
    "                     class on which the method is called. It allows the method to operate on the specific object's\n",
    "                     data and perform actions specific to that instance.\n",
    "\n",
    "3.Object Construction: During the construction of an object, the self parameter is used to represent the newly \n",
    "                       created instance of the class. It allows you to initialize the object's attributes and set\n",
    "                       up its initial state within the __init__() method.\n",
    "\n",
    "4.Passing Object References: When objects interact with each other, self is used to pass references to other objects. \n",
    "                             It allows one object to invoke methods or access attributes of another object within the \n",
    "                             same class or in related classes.\n",
    "\n",
    "By convention, the name self is used, but it is not a reserved keyword in Python. You can choose a different name for \n",
    "the first parameter of a method, but using self makes the code more readable and consistent with common practices.\n",
    "\n",
    "Overall, the use of self in OOP ensures that the class methods can properly interact with the specific instance of the \n",
    "class and access its attributes and methods, enabling object-specific behaviors and data manipulation."
   ]
  },
  {
   "cell_type": "code",
   "execution_count": null,
   "id": "a79f144e-aaab-4db9-bd7f-8220653975fe",
   "metadata": {},
   "outputs": [],
   "source": []
  },
  {
   "cell_type": "code",
   "execution_count": null,
   "id": "27665069-cb6e-49c0-9592-bfde1d57d009",
   "metadata": {},
   "outputs": [],
   "source": [
    "#Q5\n",
    "Inheritance is a fundamental concept in object-oriented programming (OOP) that allows new classes to be created \n",
    "based on existing classes. It enables code reuse and the creation of hierarchical relationships among classes.\n",
    "\n",
    "Inheritance allows a derived class (also called a subclass or child class) to inherit attributes and methods \n",
    "from a base class (also called a superclass or parent class). The derived class can then extend or modify the \n",
    "inherited attributes and methods, as well as add its own unique attributes and methods.\n",
    "\n",
    "There are different types of inheritance relationships:\n",
    "\n",
    "1.Single Inheritance:\n",
    "In single inheritance, a derived class inherits from a single base class. It forms a one-to-one hierarchical \n",
    "relationship. The derived class inherits all the attributes and methods of the base class.\n",
    "\n",
    "2.Multiple Inheritance:\n",
    "Multiple inheritance allows a derived class to inherit from multiple base classes. It forms a one-to-many \n",
    "hierarchical relationship. The derived class inherits attributes and methods from all the base classes.\n",
    "\n",
    "3.Multilevel Inheritance:\n",
    "Multilevel inheritance involves creating a chain of derived classes, where each derived class inherits from \n",
    "another derived class. It forms a hierarchical relationship of more than two classes.\n",
    "\n",
    "These examples illustrate different types of inheritance relationships in Python. In each case, the derived \n",
    "classes inherit attributes and methods from the base classes, allowing for code reuse and the creation of \n",
    "specialized classes that add new functionalities or modify the inherited ones."
   ]
  },
  {
   "cell_type": "code",
   "execution_count": 4,
   "id": "c16b32ca-0a2c-4925-ad4b-5d607ae05d2b",
   "metadata": {},
   "outputs": [
    {
     "name": "stdout",
     "output_type": "stream",
     "text": [
      "Toyota\n",
      "Driving the vehicle.\n",
      "Starting the car engine.\n"
     ]
    }
   ],
   "source": [
    "#Single Inheritance:\n",
    "class Vehicle:\n",
    "    def __init__(self, brand):\n",
    "        self.brand = brand\n",
    "\n",
    "    def drive(self):\n",
    "        print(\"Driving the vehicle.\")\n",
    "\n",
    "class Car(Vehicle):\n",
    "    def start_engine(self):\n",
    "        print(\"Starting the car engine.\")\n",
    "\n",
    "# Creating instances of the classes\n",
    "car = Car(\"Toyota\")\n",
    "\n",
    "# Accessing inherited attributes and invoking inherited methods\n",
    "print(car.brand)      # Output: Toyota\n",
    "car.drive()           # Output: Driving the vehicle.\n",
    "\n",
    "# Invoking subclass-specific method\n",
    "car.start_engine()    # Output: Starting the car engine.\n"
   ]
  },
  {
   "cell_type": "code",
   "execution_count": 5,
   "id": "42be57b7-f5ec-4051-bf7b-3c995421427d",
   "metadata": {},
   "outputs": [
    {
     "name": "stdout",
     "output_type": "stream",
     "text": [
      "Animal is breathing.\n",
      "Mammal is feeding milk.\n",
      "Dolphin is swimming.\n"
     ]
    }
   ],
   "source": [
    "#Multiple Inheritance:\n",
    "class Animal:\n",
    "    def breathe(self):\n",
    "        print(\"Animal is breathing.\")\n",
    "\n",
    "class Mammal:\n",
    "    def feed_milk(self):\n",
    "        print(\"Mammal is feeding milk.\")\n",
    "\n",
    "class Dolphin(Animal, Mammal):\n",
    "    def swim(self):\n",
    "        print(\"Dolphin is swimming.\")\n",
    "\n",
    "# Creating an instance of the Dolphin class\n",
    "dolphin = Dolphin()\n",
    "\n",
    "# Invoking inherited methods from multiple base classes\n",
    "dolphin.breathe()        # Output: Animal is breathing.\n",
    "dolphin.feed_milk()      # Output: Mammal is feeding milk.\n",
    "\n",
    "# Invoking subclass-specific method\n",
    "dolphin.swim()           # Output: Dolphin is swimming.\n"
   ]
  },
  {
   "cell_type": "code",
   "execution_count": 6,
   "id": "7e7ce07f-7cf1-4b82-b459-4b80da29d331",
   "metadata": {},
   "outputs": [
    {
     "name": "stdout",
     "output_type": "stream",
     "text": [
      "Animal is breathing.\n",
      "Mammal is feeding milk.\n",
      "Dog is barking.\n"
     ]
    }
   ],
   "source": [
    "#Multilevel Inheritance\n",
    "class Animal:\n",
    "    def breathe(self):\n",
    "        print(\"Animal is breathing.\")\n",
    "\n",
    "class Mammal(Animal):\n",
    "    def feed_milk(self):\n",
    "        print(\"Mammal is feeding milk.\")\n",
    "\n",
    "class Dog(Mammal):\n",
    "    def bark(self):\n",
    "        print(\"Dog is barking.\")\n",
    "\n",
    "# Creating an instance of the Dog class\n",
    "dog = Dog()\n",
    "\n",
    "# Invoking inherited methods from multiple levels of inheritance\n",
    "dog.breathe()           # Output: Animal is breathing.\n",
    "dog.feed_milk()         # Output: Mammal is feeding milk.\n",
    "\n",
    "# Invoking subclass-specific method\n",
    "dog.bark()              # Output: Dog is barking.\n"
   ]
  },
  {
   "cell_type": "code",
   "execution_count": null,
   "id": "b5592c5f-7c3c-4488-b5ab-5a58ae681c11",
   "metadata": {},
   "outputs": [],
   "source": []
  }
 ],
 "metadata": {
  "kernelspec": {
   "display_name": "Python 3 (ipykernel)",
   "language": "python",
   "name": "python3"
  },
  "language_info": {
   "codemirror_mode": {
    "name": "ipython",
    "version": 3
   },
   "file_extension": ".py",
   "mimetype": "text/x-python",
   "name": "python",
   "nbconvert_exporter": "python",
   "pygments_lexer": "ipython3",
   "version": "3.10.8"
  }
 },
 "nbformat": 4,
 "nbformat_minor": 5
}
